{
 "cells": [
  {
   "cell_type": "code",
   "execution_count": 1,
   "id": "c937f2ce",
   "metadata": {},
   "outputs": [
    {
     "name": "stdout",
     "output_type": "stream",
     "text": [
      "             date   time         origin    destination  ridership\n",
      "0      2025-01-01  00:00     Batu Gajah     Alor Setar          1\n",
      "1      2025-01-01  00:00     Batu Gajah           Arau          1\n",
      "2      2025-01-01  00:00     Batu Gajah   Padang Besar          1\n",
      "3      2025-01-01  00:00         Kampar   Padang Besar          2\n",
      "4      2025-01-01  00:00  Tanjong Malim     Alor Setar          1\n",
      "...           ...    ...            ...            ...        ...\n",
      "187788 2025-05-21  23:00   Sungai Buloh           Arau          9\n",
      "187789 2025-05-21  23:00   Sungai Buloh   Padang Besar          8\n",
      "187790 2025-05-21  23:00   Sungai Buloh  Sungai Petani          3\n",
      "187791 2025-05-21  23:00        Taiping    Butterworth          2\n",
      "187792 2025-05-21  23:00  Tanjong Malim     Batu Gajah          1\n",
      "\n",
      "[187793 rows x 5 columns]\n"
     ]
    }
   ],
   "source": [
    "# If not already installed, do: pip install pandas fastparquet\n",
    "import pandas as pd\n",
    "\n",
    "URL_DATA = 'https://storage.data.gov.my/transportation/ktmb/ets_2025.parquet'\n",
    "\n",
    "df = pd.read_parquet(URL_DATA)\n",
    "if 'date' in df.columns: df['date'] = pd.to_datetime(df['date'])\n",
    "\n",
    "print(df)"
   ]
  },
  {
   "cell_type": "code",
   "execution_count": 2,
   "id": "088a17a4",
   "metadata": {},
   "outputs": [
    {
     "data": {
      "text/html": [
       "<div>\n",
       "<style scoped>\n",
       "    .dataframe tbody tr th:only-of-type {\n",
       "        vertical-align: middle;\n",
       "    }\n",
       "\n",
       "    .dataframe tbody tr th {\n",
       "        vertical-align: top;\n",
       "    }\n",
       "\n",
       "    .dataframe thead th {\n",
       "        text-align: right;\n",
       "    }\n",
       "</style>\n",
       "<table border=\"1\" class=\"dataframe\">\n",
       "  <thead>\n",
       "    <tr style=\"text-align: right;\">\n",
       "      <th></th>\n",
       "      <th>date</th>\n",
       "      <th>time</th>\n",
       "      <th>origin</th>\n",
       "      <th>destination</th>\n",
       "      <th>ridership</th>\n",
       "    </tr>\n",
       "  </thead>\n",
       "  <tbody>\n",
       "    <tr>\n",
       "      <th>0</th>\n",
       "      <td>2025-01-01</td>\n",
       "      <td>00:00</td>\n",
       "      <td>Batu Gajah</td>\n",
       "      <td>Alor Setar</td>\n",
       "      <td>1</td>\n",
       "    </tr>\n",
       "    <tr>\n",
       "      <th>1</th>\n",
       "      <td>2025-01-01</td>\n",
       "      <td>00:00</td>\n",
       "      <td>Batu Gajah</td>\n",
       "      <td>Arau</td>\n",
       "      <td>1</td>\n",
       "    </tr>\n",
       "    <tr>\n",
       "      <th>2</th>\n",
       "      <td>2025-01-01</td>\n",
       "      <td>00:00</td>\n",
       "      <td>Batu Gajah</td>\n",
       "      <td>Padang Besar</td>\n",
       "      <td>1</td>\n",
       "    </tr>\n",
       "    <tr>\n",
       "      <th>3</th>\n",
       "      <td>2025-01-01</td>\n",
       "      <td>00:00</td>\n",
       "      <td>Kampar</td>\n",
       "      <td>Padang Besar</td>\n",
       "      <td>2</td>\n",
       "    </tr>\n",
       "    <tr>\n",
       "      <th>4</th>\n",
       "      <td>2025-01-01</td>\n",
       "      <td>00:00</td>\n",
       "      <td>Tanjong Malim</td>\n",
       "      <td>Alor Setar</td>\n",
       "      <td>1</td>\n",
       "    </tr>\n",
       "    <tr>\n",
       "      <th>...</th>\n",
       "      <td>...</td>\n",
       "      <td>...</td>\n",
       "      <td>...</td>\n",
       "      <td>...</td>\n",
       "      <td>...</td>\n",
       "    </tr>\n",
       "    <tr>\n",
       "      <th>187788</th>\n",
       "      <td>2025-05-21</td>\n",
       "      <td>23:00</td>\n",
       "      <td>Sungai Buloh</td>\n",
       "      <td>Arau</td>\n",
       "      <td>9</td>\n",
       "    </tr>\n",
       "    <tr>\n",
       "      <th>187789</th>\n",
       "      <td>2025-05-21</td>\n",
       "      <td>23:00</td>\n",
       "      <td>Sungai Buloh</td>\n",
       "      <td>Padang Besar</td>\n",
       "      <td>8</td>\n",
       "    </tr>\n",
       "    <tr>\n",
       "      <th>187790</th>\n",
       "      <td>2025-05-21</td>\n",
       "      <td>23:00</td>\n",
       "      <td>Sungai Buloh</td>\n",
       "      <td>Sungai Petani</td>\n",
       "      <td>3</td>\n",
       "    </tr>\n",
       "    <tr>\n",
       "      <th>187791</th>\n",
       "      <td>2025-05-21</td>\n",
       "      <td>23:00</td>\n",
       "      <td>Taiping</td>\n",
       "      <td>Butterworth</td>\n",
       "      <td>2</td>\n",
       "    </tr>\n",
       "    <tr>\n",
       "      <th>187792</th>\n",
       "      <td>2025-05-21</td>\n",
       "      <td>23:00</td>\n",
       "      <td>Tanjong Malim</td>\n",
       "      <td>Batu Gajah</td>\n",
       "      <td>1</td>\n",
       "    </tr>\n",
       "  </tbody>\n",
       "</table>\n",
       "<p>187793 rows × 5 columns</p>\n",
       "</div>"
      ],
      "text/plain": [
       "             date   time         origin    destination  ridership\n",
       "0      2025-01-01  00:00     Batu Gajah     Alor Setar          1\n",
       "1      2025-01-01  00:00     Batu Gajah           Arau          1\n",
       "2      2025-01-01  00:00     Batu Gajah   Padang Besar          1\n",
       "3      2025-01-01  00:00         Kampar   Padang Besar          2\n",
       "4      2025-01-01  00:00  Tanjong Malim     Alor Setar          1\n",
       "...           ...    ...            ...            ...        ...\n",
       "187788 2025-05-21  23:00   Sungai Buloh           Arau          9\n",
       "187789 2025-05-21  23:00   Sungai Buloh   Padang Besar          8\n",
       "187790 2025-05-21  23:00   Sungai Buloh  Sungai Petani          3\n",
       "187791 2025-05-21  23:00        Taiping    Butterworth          2\n",
       "187792 2025-05-21  23:00  Tanjong Malim     Batu Gajah          1\n",
       "\n",
       "[187793 rows x 5 columns]"
      ]
     },
     "execution_count": 2,
     "metadata": {},
     "output_type": "execute_result"
    }
   ],
   "source": [
    "df"
   ]
  },
  {
   "cell_type": "code",
   "execution_count": 6,
   "id": "c06f8ed4",
   "metadata": {},
   "outputs": [
    {
     "data": {
      "text/plain": [
       "time\n",
       "03:00       55\n",
       "02:00      143\n",
       "01:00      599\n",
       "00:00      823\n",
       "23:00     2120\n",
       "06:00     3857\n",
       "05:00     4836\n",
       "22:00     5004\n",
       "21:00     5012\n",
       "14:00     6956\n",
       "11:00     8177\n",
       "20:00     8619\n",
       "13:00     8797\n",
       "12:00     9805\n",
       "07:00    10032\n",
       "15:00    10138\n",
       "19:00    10614\n",
       "17:00    12414\n",
       "09:00    13977\n",
       "18:00    15695\n",
       "10:00    15860\n",
       "16:00    16728\n",
       "08:00    17532\n",
       "Name: count, dtype: int64"
      ]
     },
     "execution_count": 6,
     "metadata": {},
     "output_type": "execute_result"
    }
   ],
   "source": [
    "df['time'].value_counts().sort_values()"
   ]
  },
  {
   "cell_type": "code",
   "execution_count": 7,
   "id": "95bec397",
   "metadata": {},
   "outputs": [],
   "source": [
    "df_hourly = df.groupby('time')['ridership'].sum().reset_index()"
   ]
  },
  {
   "cell_type": "code",
   "execution_count": 10,
   "id": "bdfbb9e3",
   "metadata": {},
   "outputs": [],
   "source": [
    "df_hourly.set_index('time',inplace=True)"
   ]
  },
  {
   "cell_type": "code",
   "execution_count": 12,
   "id": "dbf1925f",
   "metadata": {},
   "outputs": [
    {
     "name": "stdout",
     "output_type": "stream",
     "text": [
      "       ridership\n",
      "time            \n",
      "00:00       2216\n",
      "01:00       1813\n",
      "02:00        263\n",
      "03:00         90\n",
      "05:00      54938\n",
      "06:00      37031\n",
      "07:00      81033\n",
      "08:00     162640\n",
      "09:00      90818\n",
      "10:00      85122\n",
      "11:00      69891\n",
      "12:00     116264\n",
      "13:00     116546\n",
      "14:00      40130\n",
      "15:00     155588\n",
      "16:00      90343\n",
      "17:00      70398\n",
      "18:00     150806\n",
      "19:00      69414\n",
      "20:00      56850\n",
      "21:00      47093\n",
      "22:00      39694\n",
      "23:00       8556\n"
     ]
    }
   ],
   "source": [
    "print(df_hourly)"
   ]
  },
  {
   "cell_type": "code",
   "execution_count": 13,
   "id": "c1071512",
   "metadata": {},
   "outputs": [
    {
     "data": {
      "image/png": "[encoded data removed]",
      "text/plain": [
       "<Figure size 1200x400 with 1 Axes>"
      ]
     },
     "metadata": {},
     "output_type": "display_data"
    }
   ],
   "source": [
    "import matplotlib.pyplot as plt\n",
    "\n",
    "df_hourly['ridership'].plot(figsize=(12,4))\n",
    "plt.show()"
   ]
  }
 ],
 "metadata": {
  "kernelspec": {
   "display_name": "venv",
   "language": "python",
   "name": "python3"
  },
  "language_info": {
   "codemirror_mode": {
    "name": "ipython",
    "version": 3
   },
   "file_extension": ".py",
   "mimetype": "text/x-python",
   "name": "python",
   "nbconvert_exporter": "python",
   "pygments_lexer": "ipython3",
   "version": "3.10.0"
  }
 },
 "nbformat": 4,
 "nbformat_minor": 5
}
