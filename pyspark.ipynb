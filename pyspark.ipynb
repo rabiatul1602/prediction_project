{
 "cells": [
  {
   "cell_type": "code",
   "execution_count": 1,
   "id": "7a6103d5",
   "metadata": {},
   "outputs": [],
   "source": [
    "import pyspark"
   ]
  },
  {
   "cell_type": "code",
   "execution_count": 2,
   "id": "95a6ab3a",
   "metadata": {},
   "outputs": [],
   "source": [
    "from pyspark.sql import SparkSession"
   ]
  },
  {
   "cell_type": "code",
   "execution_count": 6,
   "id": "b2f2c5eb",
   "metadata": {},
   "outputs": [],
   "source": [
    "spark = SparkSession.builder \\\n",
    "    .appName(\"MySparkApp\") \\\n",
    "    .getOrCreate()"
   ]
  },
  {
   "cell_type": "code",
   "execution_count": 9,
   "id": "0af33950",
   "metadata": {},
   "outputs": [
    {
     "data": {
      "text/html": [
       "\n",
       "            <div>\n",
       "                <p><b>SparkSession - in-memory</b></p>\n",
       "                \n",
       "        <div>\n",
       "            <p><b>SparkContext</b></p>\n",
       "\n",
       "            <p><a href=\"http://RAB:4040\">Spark UI</a></p>\n",
       "\n",
       "            <dl>\n",
       "              <dt>Version</dt>\n",
       "                <dd><code>v3.5.5</code></dd>\n",
       "              <dt>Master</dt>\n",
       "                <dd><code>local[*]</code></dd>\n",
       "              <dt>AppName</dt>\n",
       "                <dd><code>MySparkApp</code></dd>\n",
       "            </dl>\n",
       "        </div>\n",
       "        \n",
       "            </div>\n",
       "        "
      ],
      "text/plain": [
       "<pyspark.sql.session.SparkSession at 0x26a76ba31f0>"
      ]
     },
     "execution_count": 9,
     "metadata": {},
     "output_type": "execute_result"
    }
   ],
   "source": [
    "spark"
   ]
  },
  {
   "cell_type": "code",
   "execution_count": 7,
   "id": "7db34bed",
   "metadata": {},
   "outputs": [
    {
     "name": "stdout",
     "output_type": "stream",
     "text": [
      "+------------------+-----------------+--------+------------+--------+--------------------+--------------------+------+--------------------+\n",
      "|          Location|             Role|VendorID|InvoiceValue|Resource|      StartTimestamp|        EndTimestamp|CaseId|        ActivityName|\n",
      "+------------------+-----------------+--------+------------+--------+--------------------+--------------------+------+--------------------+\n",
      "|    San Diego, USA|Invoice Processor| Vendor2|      729.27|   Casey|2022-07-28 09:23:...|2022-07-28 17:59:...|     0|       Invoice Entry|\n",
      "|    San Diego, USA|Invoice Processor| Vendor2|      729.27|   Casey|2022-07-28 17:59:...|2022-07-29 00:43:...|     0|Check Customer Pa...|\n",
      "|    San Diego, USA|Invoice Processor| Vendor2|      729.27|   Casey|2022-07-29 09:43:...|2022-07-29 15:04:...|     0|   Credit Memo Entry|\n",
      "|    San Diego, USA|Invoice Processor| Vendor2|      729.27|   Casey|2022-07-29 15:04:...|2022-07-29 20:49:...|     0|     Refund Customer|\n",
      "|    San Diego, USA|Invoice Processor| Vendor2|      729.27|   Casey|2022-08-01 09:49:...|2022-08-01 18:08:...|     0|Re-issuing the in...|\n",
      "|San Francisco, USA|Invoice Processor| Vendor2|      2499.1|   Aiden|2022-07-21 09:43:...|2022-07-21 12:05:...|     1|       Invoice Entry|\n",
      "|San Francisco, USA|Invoice Processor| Vendor2|      2499.1|   Aiden|2022-07-21 12:05:...|2022-07-21 13:54:...|     1|Check Customer Pa...|\n",
      "|San Francisco, USA|Invoice Processor| Vendor2|      2499.1|   Aiden|2022-07-21 13:54:...|2022-07-21 15:44:...|     1|   Credit Memo Entry|\n",
      "|San Francisco, USA|Invoice Processor| Vendor2|      2499.1|   Aiden|2022-07-21 15:44:...|2022-07-21 17:51:...|     1|     Refund Customer|\n",
      "|San Francisco, USA|Invoice Processor| Vendor2|      2499.1|   Aiden|2022-07-21 17:51:...|2022-07-21 19:05:...|     1|Re-issuing the in...|\n",
      "|    San Diego, USA|Invoice Processor| Vendor2|      624.12|   Casey|2022-07-19 10:03:...|2022-07-19 19:12:...|     2|       Invoice Entry|\n",
      "|    San Diego, USA|Invoice Processor| Vendor2|      624.12|   Casey|2022-07-20 09:12:...|2022-07-20 14:47:...|     2|Confirm Payment R...|\n",
      "|    San Diego, USA|Invoice Processor| Vendor2|      624.12|   Casey|2022-07-20 14:47:...|2022-07-21 15:15:...|     2|Refund With Speci...|\n",
      "|    San Diego, USA| Invoice Approver| Vendor2|      624.12|  Jessie|2022-07-21 15:15:...|2022-07-21 23:35:...|     2|Complete the Cust...|\n",
      "|    San Diego, USA| Invoice Approver| Vendor2|      624.12|  Jessie|2022-07-22 09:35:...|2022-07-22 17:05:...|     2|     Approve Invoice|\n",
      "|    San Diego, USA|Invoice Processor| Vendor2|      624.12|   Casey|2022-07-22 17:05:...|2022-07-22 23:44:...|     2|Credit Memo Creation|\n",
      "|    San Diego, USA|Invoice Processor| Vendor2|      624.12|   Casey|2022-07-25 09:44:...|2022-07-25 15:59:...|     2|    Fill Credit Memo|\n",
      "|    San Diego, USA|Invoice Processor| Vendor2|      624.12|   Casey|2022-07-25 15:59:...|2022-07-25 22:57:...|     2|Re-issuing the in...|\n",
      "|San Francisco, USA|Invoice Processor| Vendor3|      3960.7|   Aiden|2022-08-22 09:12:...|2022-08-22 10:42:...|     3|       Invoice Entry|\n",
      "|San Francisco, USA|Invoice Processor| Vendor3|      3960.7|   Aiden|2022-08-22 10:42:...|2022-08-22 12:11:...|     3|Confirm Payment R...|\n",
      "+------------------+-----------------+--------+------------+--------+--------------------+--------------------+------+--------------------+\n",
      "only showing top 20 rows\n",
      "\n"
     ]
    }
   ],
   "source": [
    "spark.read.csv(\"SampleData_AP_Refunds_Financial_EventLog .csv\", header=True, inferSchema=True).show()"
   ]
  }
 ],
 "metadata": {
  "kernelspec": {
   "display_name": "venv",
   "language": "python",
   "name": "python3"
  },
  "language_info": {
   "codemirror_mode": {
    "name": "ipython",
    "version": 3
   },
   "file_extension": ".py",
   "mimetype": "text/x-python",
   "name": "python",
   "nbconvert_exporter": "python",
   "pygments_lexer": "ipython3",
   "version": "3.10.0"
  }
 },
 "nbformat": 4,
 "nbformat_minor": 5
}
